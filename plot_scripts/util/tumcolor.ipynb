{
 "cells": [
  {
   "cell_type": "code",
   "execution_count": null,
   "metadata": {},
   "outputs": [],
   "source": [
    "from matplotlib.colors import _colors_full_map, ListedColormap\n",
    "from matplotlib.cm import register_cmap\n",
    "from cycler import cycler"
   ]
  },
  {
   "cell_type": "code",
   "execution_count": null,
   "metadata": {},
   "outputs": [],
   "source": [
    "# allow using tumcolors\n",
    "TUMCOLOR = dict()\n",
    "TUMCOLOR['TUMBlue'] = (0.00,0.40,0.74)\n",
    "TUMCOLOR['TUMWhite'] = (1.00,1.00,1.00)\n",
    "TUMCOLOR['TUMBlack'] = (0.00,0.00,0.00)\n",
    "TUMCOLOR['TUMDarkerBlue'] = (0.00,0.32,0.58)\n",
    "TUMCOLOR['TUMDarkBlue'] = (0.00,0.20,0.35)\n",
    "TUMCOLOR['TUMDarkGray'] = (0.20,0.20,0.20)\n",
    "TUMCOLOR['TUMMediumGray'] = (0.50,0.50,0.50)\n",
    "TUMCOLOR['TUMLightGray'] = (0.80,0.80,0.80)\n",
    "TUMCOLOR['TUMIvony'] = (0.85,0.84,0.80)\n",
    "TUMCOLOR['TUMOrange'] = (0.89,0.45,0.13)\n",
    "TUMCOLOR['TUMGreen'] = (0.64,0.68,0.00)\n",
    "TUMCOLOR['TUMLightBlue'] = (0.60,0.78,0.92)\n",
    "TUMCOLOR['TUMLighterBlue'] = (0.39,0.63,0.78)\n",
    "TUMCOLOR['TUMPurple'] = (0.41,0.03,0.35)\n",
    "TUMCOLOR['TUMDarkPurple'] = (0.06,0.11,0.37)\n",
    "TUMCOLOR['TUMTurquois'] = (0.00,0.47,0.54)\n",
    "TUMCOLOR['TUMDarkGreen'] = (0.00,0.49,0.19)\n",
    "TUMCOLOR['TUMDarkerGreen'] = (0.40,0.60,0.11)\n",
    "TUMCOLOR['TUMYellow'] = (1.00,0.86,0.00)\n",
    "TUMCOLOR['TUMDarkYellow'] = (0.98,0.73,0.00)\n",
    "TUMCOLOR['TUMLightRed'] = (0.84,0.30,0.07)\n",
    "TUMCOLOR['TUMRed'] = (0.77,0.03,0.11)\n",
    "TUMCOLOR['TUMDarkRed'] = (0.61,0.05,0.09)\n",
    "TUMCOLOR['TUM150LightMustard'] = (0.91,0.78,0.22)\n",
    "TUMCOLOR['TUM150Mustard'] = (0.79,0.67,0.16)\n",
    "TUMCOLOR['TUM150LightOrange'] = (0.97,0.65,0.00)\n",
    "TUMCOLOR['TUM150Orange'] = (0.95,0.57,0.00)\n",
    "TUMCOLOR['TUM150LightGreen'] = (0.74,0.81,0.12)\n",
    "TUMCOLOR['TUM150Green'] = (0.64,0.75,0.09)\n",
    "TUMCOLOR['TUM150LighterBlue'] = (0.57,0.83,0.95)\n",
    "TUMCOLOR['TUM150LightBlue'] = (0.36,0.77,0.95)\n",
    "TUMCOLOR['TUM150LightPink'] = (0.95,0.56,0.58)\n",
    "TUMCOLOR['TUM150Pink'] = (0.89,0.51,0.56)\n",
    "\n",
    "# old matplotlib only checks color names using .lower()\n",
    "lower_case = dict()\n",
    "for color, rgb in TUMCOLOR.items():\n",
    "    lower_case[color.lower()] = rgb\n",
    "\n",
    "# add to mpl internal structure\n",
    "_colors_full_map.update(TUMCOLOR)\n",
    "_colors_full_map.update(lower_case)\n",
    "\n",
    "# create strings that we search for in the exported code\n",
    "TUMCOLOR_RGB_STRINGS = dict()\n",
    "for color, rgb in TUMCOLOR.items():\n",
    "    vals = []\n",
    "    for val in rgb:\n",
    "        if val == 0.0:\n",
    "            val = 0\n",
    "        if val == 1.0:\n",
    "            val = 1\n",
    "        vals.append(str(val))\n",
    "    rgb_string = ','.join(vals)\n",
    "    TUMCOLOR_RGB_STRINGS[rgb_string] = color"
   ]
  },
  {
   "cell_type": "code",
   "execution_count": null,
   "metadata": {},
   "outputs": [],
   "source": [
    "# cycler that should be used for mpl axis environment\n",
    "tumcolor_cycler = (cycler(linewidth=[1, 2, 3, 4]) *\n",
    "                   cycler(linestyle=['-', '--', '-.']) *\n",
    "                   #cycler(marker=['*', 'o', 'x']) *\n",
    "                   cycler(color=['TUMBlue', 'TUMOrange', 'TUMGreen',\n",
    "                                 'TUMLightBlue', 'TUMDarkYellow', 'TUMPurple',\n",
    "                                 'TUMRed', 'TUMDarkGreen'])\n",
    "                  )"
   ]
  }
 ],
 "metadata": {
  "kernelspec": {
   "display_name": "Python 3",
   "language": "python",
   "name": "python3"
  },
  "language_info": {
   "codemirror_mode": {
    "name": "ipython",
    "version": 3
   },
   "file_extension": ".py",
   "mimetype": "text/x-python",
   "name": "python",
   "nbconvert_exporter": "python",
   "pygments_lexer": "ipython3",
   "version": "3.7.3"
  }
 },
 "nbformat": 4,
 "nbformat_minor": 2
}
